{
 "cells": [
  {
   "cell_type": "code",
   "execution_count": 47,
   "metadata": {
    "collapsed": false
   },
   "outputs": [
    {
     "ename": "ValueError",
     "evalue": "Unhandled object <_io.TextIOWrapper name='world.json' mode='r' encoding='utf-8-sig'>.",
     "output_type": "error",
     "traceback": [
      "\u001b[0;31m---------------------------------------------------------------------------\u001b[0m",
      "\u001b[0;31mValueError\u001b[0m                                Traceback (most recent call last)",
      "\u001b[0;32m<ipython-input-47-810ae0254d4f>\u001b[0m in \u001b[0;36m<module>\u001b[0;34m()\u001b[0m\n\u001b[1;32m     23\u001b[0m                                      fill_color=color_selector(el),color='gray',fill_opacity=0.7))\n\u001b[1;32m     24\u001b[0m \u001b[1;33m\u001b[0m\u001b[0m\n\u001b[0;32m---> 25\u001b[0;31m \u001b[0mfg\u001b[0m\u001b[1;33m.\u001b[0m\u001b[0madd_child\u001b[0m\u001b[1;33m(\u001b[0m\u001b[0mfolium\u001b[0m\u001b[1;33m.\u001b[0m\u001b[0mGeoJson\u001b[0m\u001b[1;33m(\u001b[0m\u001b[0mdata\u001b[0m\u001b[1;33m=\u001b[0m\u001b[0mopen\u001b[0m\u001b[1;33m(\u001b[0m\u001b[1;34m'world.json'\u001b[0m\u001b[1;33m,\u001b[0m\u001b[1;34m'r'\u001b[0m\u001b[1;33m,\u001b[0m\u001b[0mencoding\u001b[0m\u001b[1;33m=\u001b[0m\u001b[1;34m'utf-8-sig'\u001b[0m\u001b[1;33m)\u001b[0m\u001b[1;33m)\u001b[0m\u001b[1;33m.\u001b[0m\u001b[0mread\u001b[0m\u001b[1;33m(\u001b[0m\u001b[1;33m)\u001b[0m\u001b[1;33m,\u001b[0m\u001b[0mstyle_function\u001b[0m\u001b[1;33m=\u001b[0m\u001b[1;32mlambda\u001b[0m \u001b[0mx\u001b[0m\u001b[1;33m:\u001b[0m \u001b[1;33m{\u001b[0m\u001b[1;34m'fillColor'\u001b[0m\u001b[1;33m:\u001b[0m\u001b[1;34m'yellow'\u001b[0m\u001b[1;33m}\u001b[0m\u001b[1;33m)\u001b[0m\u001b[1;33m\u001b[0m\u001b[0m\n\u001b[0m\u001b[1;32m     26\u001b[0m \u001b[1;33m\u001b[0m\u001b[0m\n\u001b[1;32m     27\u001b[0m \u001b[0mmap\u001b[0m\u001b[1;33m.\u001b[0m\u001b[0madd_child\u001b[0m\u001b[1;33m(\u001b[0m\u001b[0mfg\u001b[0m\u001b[1;33m)\u001b[0m\u001b[1;33m\u001b[0m\u001b[0m\n",
      "\u001b[0;32mC:\\ProgramData\\Anaconda3\\lib\\site-packages\\folium\\features.py\u001b[0m in \u001b[0;36m__init__\u001b[0;34m(self, data, style_function, name, overlay, control, smooth_factor, highlight_function)\u001b[0m\n\u001b[1;32m    493\u001b[0m                 \u001b[1;32mraise\u001b[0m \u001b[0mValueError\u001b[0m\u001b[1;33m(\u001b[0m\u001b[0mmsg\u001b[0m\u001b[1;33m)\u001b[0m\u001b[1;33m\u001b[0m\u001b[0m\n\u001b[1;32m    494\u001b[0m         \u001b[1;32melse\u001b[0m\u001b[1;33m:\u001b[0m\u001b[1;33m\u001b[0m\u001b[0m\n\u001b[0;32m--> 495\u001b[0;31m             \u001b[1;32mraise\u001b[0m \u001b[0mValueError\u001b[0m\u001b[1;33m(\u001b[0m\u001b[1;34m'Unhandled object {!r}.'\u001b[0m\u001b[1;33m.\u001b[0m\u001b[0mformat\u001b[0m\u001b[1;33m(\u001b[0m\u001b[0mdata\u001b[0m\u001b[1;33m)\u001b[0m\u001b[1;33m)\u001b[0m\u001b[1;33m\u001b[0m\u001b[0m\n\u001b[0m\u001b[1;32m    496\u001b[0m \u001b[1;33m\u001b[0m\u001b[0m\n\u001b[1;32m    497\u001b[0m         \u001b[1;32mif\u001b[0m \u001b[0mstyle_function\u001b[0m \u001b[1;32mis\u001b[0m \u001b[1;32mNone\u001b[0m\u001b[1;33m:\u001b[0m\u001b[1;33m\u001b[0m\u001b[0m\n",
      "\u001b[0;31mValueError\u001b[0m: Unhandled object <_io.TextIOWrapper name='world.json' mode='r' encoding='utf-8-sig'>."
     ]
    }
   ],
   "source": [
    "import folium, pandas,re,json\n",
    "\n",
    "data = pandas.read_csv('Volcanoes_USA.txt')\n",
    "\n",
    "lat = list(data['LAT'])\n",
    "lon = list(data['LON'])\n",
    "elev = list(data['ELEV'])\n",
    "\n",
    "def color_selector(elevation):\n",
    "    if elevation < 2000:\n",
    "        return 'green'\n",
    "    elif 2000 <= elevation < 3500:\n",
    "        return 'orange'\n",
    "    else:\n",
    "        return 'red'\n",
    "\n",
    "map = folium.Map(location=[48.776,-121.81],zoom_start=6,tiles=\"Mapbox Bright\")\n",
    "\n",
    "fg = folium.FeatureGroup(name='elevation')\n",
    "    \n",
    "for lt,ln,el in zip(lat,lon,elev):\n",
    "    fg.add_child(folium.CircleMarker(location=[lt,ln],radius=6,popup=str(el)+'m',fill=True,\n",
    "                                     fill_color=color_selector(el),color='gray',fill_opacity=0.7))\n",
    "    \n",
    "fg.add_child(folium.GeoJson(data=open('world.json','r',encoding='utf-8-sig').read(),style_function=lambda x: {'fillColor':'yellow'})\n",
    "    \n",
    "map.add_child(fg)\n",
    "map"
   ]
  },
  {
   "cell_type": "code",
   "execution_count": 39,
   "metadata": {
    "collapsed": false
   },
   "outputs": [
    {
     "name": "stdout",
     "output_type": "stream",
     "text": [
      "Help on class GeoJson in module folium.features:\n",
      "\n",
      "class GeoJson(folium.map.Layer)\n",
      " |  Creates a GeoJson object for plotting into a Map.\n",
      " |  \n",
      " |  Parameters\n",
      " |  ----------\n",
      " |  data: file, dict or str.\n",
      " |      The GeoJSON data you want to plot.\n",
      " |      * If file, then data will be read in the file and fully\n",
      " |      embedded in Leaflet's JavaScript.\n",
      " |      * If dict, then data will be converted to JSON and embedded\n",
      " |      in the JavaScript.\n",
      " |      * If str, then data will be passed to the JavaScript as-is.\n",
      " |  style_function: function, default None\n",
      " |      Function mapping a GeoJson Feature to a style dict.\n",
      " |  highlight_function: function, default None\n",
      " |      Function mapping a GeoJson Feature to a style dict for mouse events.\n",
      " |  name : string, default None\n",
      " |      The name of the Layer, as it will appear in LayerControls\n",
      " |  overlay : bool, default False\n",
      " |      Adds the layer as an optional overlay (True) or the base layer (False).\n",
      " |  control : bool, default True\n",
      " |      Whether the Layer will be included in LayerControls\n",
      " |  smooth_factor: float, default None\n",
      " |      How much to simplify the polyline on each zoom level. More means\n",
      " |      better performance and smoother look, and less means more accurate\n",
      " |      representation. Leaflet defaults to 1.0.\n",
      " |  \n",
      " |  Examples\n",
      " |  --------\n",
      " |  >>> # Providing file that shall be embedded.\n",
      " |  >>> GeoJson(open('foo.json'))\n",
      " |  >>> # Providing filename that shall not be embedded.\n",
      " |  >>> GeoJson('foo.json')\n",
      " |  >>> # Providing dict.\n",
      " |  >>> GeoJson(json.load(open('foo.json')))\n",
      " |  >>> # Providing string.\n",
      " |  >>> GeoJson(open('foo.json').read())\n",
      " |  \n",
      " |  >>> # Provide a style_function that color all states green but Alabama.\n",
      " |  >>> style_function = lambda x: {'fillColor': '#0000ff' if\n",
      " |  ...                             x['properties']['name']=='Alabama' else\n",
      " |  ...                             '#00ff00'}\n",
      " |  >>> GeoJson(geojson, style_function=style_function)\n",
      " |  \n",
      " |  Method resolution order:\n",
      " |      GeoJson\n",
      " |      folium.map.Layer\n",
      " |      branca.element.MacroElement\n",
      " |      branca.element.Element\n",
      " |      builtins.object\n",
      " |  \n",
      " |  Methods defined here:\n",
      " |  \n",
      " |  __init__(self, data, style_function=None, name=None, overlay=True, control=True, smooth_factor=None, highlight_function=None)\n",
      " |      Initialize self.  See help(type(self)) for accurate signature.\n",
      " |  \n",
      " |  style_data(self)\n",
      " |      Applies `self.style_function` to each feature of `self.data` and\n",
      " |      returns a corresponding JSON output.\n",
      " |  \n",
      " |  ----------------------------------------------------------------------\n",
      " |  Methods inherited from branca.element.MacroElement:\n",
      " |  \n",
      " |  render(self, **kwargs)\n",
      " |      Renders the HTML representation of the element.\n",
      " |  \n",
      " |  ----------------------------------------------------------------------\n",
      " |  Methods inherited from branca.element.Element:\n",
      " |  \n",
      " |  add_child(self, child, name=None, index=None)\n",
      " |      Add a child.\n",
      " |  \n",
      " |  add_children(self, child, name=None, index=None)\n",
      " |      Add a child.\n",
      " |  \n",
      " |  add_to(self, parent, name=None, index=None)\n",
      " |      Add element to a parent.\n",
      " |  \n",
      " |  get_bounds(self)\n",
      " |      Computes the bounds of the object and all it's children\n",
      " |      in the form [[lat_min, lon_min], [lat_max, lon_max]].\n",
      " |  \n",
      " |  get_name(self)\n",
      " |      Returns a string representation of the object.\n",
      " |      This string has to be unique and to be a python and\n",
      " |      javascript-compatible\n",
      " |      variable name.\n",
      " |  \n",
      " |  get_root(self)\n",
      " |      Returns the root of the elements tree.\n",
      " |  \n",
      " |  save(self, outfile, close_file=True, **kwargs)\n",
      " |      Saves an Element into a file.\n",
      " |      \n",
      " |      Parameters\n",
      " |      ----------\n",
      " |      outfile : str or file object\n",
      " |          The file (or filename) where you want to output the html.\n",
      " |      close_file : bool, default True\n",
      " |          Whether the file has to be closed after write.\n",
      " |  \n",
      " |  to_dict(self, depth=-1, ordered=True, **kwargs)\n",
      " |      Returns a dict representation of the object.\n",
      " |  \n",
      " |  to_json(self, depth=-1, **kwargs)\n",
      " |      Returns a JSON representation of the object.\n",
      " |  \n",
      " |  ----------------------------------------------------------------------\n",
      " |  Data descriptors inherited from branca.element.Element:\n",
      " |  \n",
      " |  __dict__\n",
      " |      dictionary for instance variables (if defined)\n",
      " |  \n",
      " |  __weakref__\n",
      " |      list of weak references to the object (if defined)\n",
      "\n"
     ]
    }
   ],
   "source": [
    "help(folium.GeoJson)"
   ]
  },
  {
   "cell_type": "code",
   "execution_count": 48,
   "metadata": {
    "collapsed": false
   },
   "outputs": [
    {
     "data": {
      "text/plain": [
       "''"
      ]
     },
     "execution_count": 48,
     "metadata": {},
     "output_type": "execute_result"
    }
   ],
   "source": [
    "data=open('world.json','r',encoding='utf-8-sig').read()\n",
    "data"
   ]
  },
  {
   "cell_type": "code",
   "execution_count": null,
   "metadata": {
    "collapsed": true
   },
   "outputs": [],
   "source": []
  }
 ],
 "metadata": {
  "kernelspec": {
   "display_name": "Python 3",
   "language": "python",
   "name": "python3"
  },
  "language_info": {
   "codemirror_mode": {
    "name": "ipython",
    "version": 3
   },
   "file_extension": ".py",
   "mimetype": "text/x-python",
   "name": "python",
   "nbconvert_exporter": "python",
   "pygments_lexer": "ipython3",
   "version": "3.6.0"
  }
 },
 "nbformat": 4,
 "nbformat_minor": 2
}
