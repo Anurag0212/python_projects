{
 "cells": [
  {
   "cell_type": "code",
   "execution_count": 36,
   "metadata": {
    "collapsed": false
   },
   "outputs": [
    {
     "name": "stdout",
     "output_type": "stream",
     "text": [
      "[*********************100%***********************]  1 of 1 downloaded"
     ]
    },
    {
     "name": "stderr",
     "output_type": "stream",
     "text": [
      "C:\\ProgramData\\Anaconda3\\lib\\site-packages\\bokeh\\util\\deprecation.py:34: BokehDeprecationWarning: Setting Plot property 'title' using a string was deprecated in 0.12.0,\n",
      "            and will be removed. The title is now an object on Plot (which holds all of it's\n",
      "            styling properties). Please use Plot.title.text instead.\n",
      "\n",
      "            SERVER USERS: If you were using plot.title to have the server update the plot title\n",
      "            in a callback, you MUST update to plot.title.text as the title object cannot currently\n",
      "            be replaced after initialization.\n",
      "            \n",
      "  warn(message)\n",
      "INFO:bokeh.core.state:Session output file 'CS.html' already exists, will be overwritten.\n"
     ]
    },
    {
     "name": "stdout",
     "output_type": "stream",
     "text": [
      "\n"
     ]
    }
   ],
   "source": [
    "import fix_yahoo_finance as yf\n",
    "import pandas as pd\n",
    "from pandas_datareader import data\n",
    "import datetime\n",
    "from bokeh.plotting import show,figure,output_file\n",
    "\n",
    "start_day=datetime.datetime(2018,1,1)\n",
    "end_day=datetime.datetime(2018,5,10)\n",
    "yf.pdr_override() \n",
    "df=data.get_data_yahoo(tickers=\"AAPL\", start=start_day, end=end_day)\n",
    "\n",
    "def inc_dec(c,o):\n",
    "    if c > o:\n",
    "        value=\"Increase\"\n",
    "    elif c < o:\n",
    "        value=\"Decrease\"\n",
    "    else:\n",
    "        value=\"Equal\"\n",
    "    return value\n",
    "\n",
    "df[\"Status\"]=[inc_dec(c,o) for c,o in zip(df.Close,df.Open)]\n",
    "df[\"Median\"]=(df.Close+df.Open)/2\n",
    "df[\"Height\"]=abs(df.Close-df.Open)\n",
    "\n",
    "p=figure(x_axis_type='datetime',width=1000,height=300,responsive=True)\n",
    "p.title=\"Candlestick Chart\"\n",
    "hours_12=12*60*60*1000\n",
    "\n",
    "p.segment(df.index,df.High,df.index,df.Low)\n",
    "\n",
    "p.rect(df.index[df.Status==\"Increase\"],df.Median[df.Status==\"Increase\"],\n",
    "      hours_12,df.Height[df.Status==\"Increase\"],fill_color='green',line_color='Black')\n",
    "p.rect(df.index[df.Status==\"Decrease\"],df.Median[df.Status==\"Decrease\"],\n",
    "      hours_12,df.Height[df.Status==\"Decrease\"],fill_color='red',line_color='Black')\n",
    "\n",
    "output_file(\"CS.html\")\n",
    "show(p)"
   ]
  }
 ],
 "metadata": {
  "kernelspec": {
   "display_name": "Python 3",
   "language": "python",
   "name": "python3"
  },
  "language_info": {
   "codemirror_mode": {
    "name": "ipython",
    "version": 3
   },
   "file_extension": ".py",
   "mimetype": "text/x-python",
   "name": "python",
   "nbconvert_exporter": "python",
   "pygments_lexer": "ipython3",
   "version": "3.6.0"
  }
 },
 "nbformat": 4,
 "nbformat_minor": 2
}
